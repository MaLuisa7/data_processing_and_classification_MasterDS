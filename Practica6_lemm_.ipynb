{
  "nbformat": 4,
  "nbformat_minor": 0,
  "metadata": {
    "colab": {
      "provenance": [],
      "gpuType": "T4",
      "authorship_tag": "ABX9TyM5z4PfTM1gEgrMzTiopThn",
      "include_colab_link": true
    },
    "kernelspec": {
      "name": "python3",
      "display_name": "Python 3"
    },
    "language_info": {
      "name": "python"
    },
    "accelerator": "GPU"
  },
  "cells": [
    {
      "cell_type": "markdown",
      "metadata": {
        "id": "view-in-github",
        "colab_type": "text"
      },
      "source": [
        "<a href=\"https://colab.research.google.com/github/MaLuisa7/data_processing_and_classification_MasterDS/blob/main/Practica6_lemm_.ipynb\" target=\"_parent\"><img src=\"https://colab.research.google.com/assets/colab-badge.svg\" alt=\"Open In Colab\"/></a>"
      ]
    },
    {
      "cell_type": "markdown",
      "source": [
        "preprocesamiento de los datos"
      ],
      "metadata": {
        "id": "a0H1g2XS9doh"
      }
    },
    {
      "cell_type": "markdown",
      "source": [
        "## Funciones"
      ],
      "metadata": {
        "id": "MAwBWDwSsux1"
      }
    },
    {
      "cell_type": "code",
      "source": [
        "def plot_roc_curve(fpr,tpr):\n",
        "  plt.plot(fpr,tpr)\n",
        "  plt.axis([0,1,0,1])\n",
        "  plt.xlabel('False Positive Rate')\n",
        "  plt.ylabel('True Positive Rate')\n",
        "  plt.show()"
      ],
      "metadata": {
        "id": "NqufKHuvstXk"
      },
      "execution_count": 1,
      "outputs": []
    },
    {
      "cell_type": "markdown",
      "source": [
        "## Librerias"
      ],
      "metadata": {
        "id": "MsI2sEbDswWZ"
      }
    },
    {
      "cell_type": "code",
      "source": [
        "import nltk\n",
        "nltk.download('all')"
      ],
      "metadata": {
        "id": "_oRup_Askovy",
        "colab": {
          "base_uri": "https://localhost:8080/"
        },
        "outputId": "00823a35-a98b-493e-9c2e-422874cff87c"
      },
      "execution_count": 2,
      "outputs": [
        {
          "output_type": "stream",
          "name": "stderr",
          "text": [
            "[nltk_data] Downloading collection 'all'\n",
            "[nltk_data]    | \n",
            "[nltk_data]    | Downloading package abc to /root/nltk_data...\n",
            "[nltk_data]    |   Unzipping corpora/abc.zip.\n",
            "[nltk_data]    | Downloading package alpino to /root/nltk_data...\n",
            "[nltk_data]    |   Unzipping corpora/alpino.zip.\n",
            "[nltk_data]    | Downloading package averaged_perceptron_tagger to\n",
            "[nltk_data]    |     /root/nltk_data...\n",
            "[nltk_data]    |   Unzipping taggers/averaged_perceptron_tagger.zip.\n",
            "[nltk_data]    | Downloading package averaged_perceptron_tagger_ru to\n",
            "[nltk_data]    |     /root/nltk_data...\n",
            "[nltk_data]    |   Unzipping\n",
            "[nltk_data]    |       taggers/averaged_perceptron_tagger_ru.zip.\n",
            "[nltk_data]    | Downloading package basque_grammars to\n",
            "[nltk_data]    |     /root/nltk_data...\n",
            "[nltk_data]    |   Unzipping grammars/basque_grammars.zip.\n",
            "[nltk_data]    | Downloading package bcp47 to /root/nltk_data...\n",
            "[nltk_data]    | Downloading package biocreative_ppi to\n",
            "[nltk_data]    |     /root/nltk_data...\n",
            "[nltk_data]    |   Unzipping corpora/biocreative_ppi.zip.\n",
            "[nltk_data]    | Downloading package bllip_wsj_no_aux to\n",
            "[nltk_data]    |     /root/nltk_data...\n",
            "[nltk_data]    |   Unzipping models/bllip_wsj_no_aux.zip.\n",
            "[nltk_data]    | Downloading package book_grammars to\n",
            "[nltk_data]    |     /root/nltk_data...\n",
            "[nltk_data]    |   Unzipping grammars/book_grammars.zip.\n",
            "[nltk_data]    | Downloading package brown to /root/nltk_data...\n",
            "[nltk_data]    |   Unzipping corpora/brown.zip.\n",
            "[nltk_data]    | Downloading package brown_tei to /root/nltk_data...\n",
            "[nltk_data]    |   Unzipping corpora/brown_tei.zip.\n",
            "[nltk_data]    | Downloading package cess_cat to /root/nltk_data...\n",
            "[nltk_data]    |   Unzipping corpora/cess_cat.zip.\n",
            "[nltk_data]    | Downloading package cess_esp to /root/nltk_data...\n",
            "[nltk_data]    |   Unzipping corpora/cess_esp.zip.\n",
            "[nltk_data]    | Downloading package chat80 to /root/nltk_data...\n",
            "[nltk_data]    |   Unzipping corpora/chat80.zip.\n",
            "[nltk_data]    | Downloading package city_database to\n",
            "[nltk_data]    |     /root/nltk_data...\n",
            "[nltk_data]    |   Unzipping corpora/city_database.zip.\n",
            "[nltk_data]    | Downloading package cmudict to /root/nltk_data...\n",
            "[nltk_data]    |   Unzipping corpora/cmudict.zip.\n",
            "[nltk_data]    | Downloading package comparative_sentences to\n",
            "[nltk_data]    |     /root/nltk_data...\n",
            "[nltk_data]    |   Unzipping corpora/comparative_sentences.zip.\n",
            "[nltk_data]    | Downloading package comtrans to /root/nltk_data...\n",
            "[nltk_data]    | Downloading package conll2000 to /root/nltk_data...\n",
            "[nltk_data]    |   Unzipping corpora/conll2000.zip.\n",
            "[nltk_data]    | Downloading package conll2002 to /root/nltk_data...\n",
            "[nltk_data]    |   Unzipping corpora/conll2002.zip.\n",
            "[nltk_data]    | Downloading package conll2007 to /root/nltk_data...\n",
            "[nltk_data]    | Downloading package crubadan to /root/nltk_data...\n",
            "[nltk_data]    |   Unzipping corpora/crubadan.zip.\n",
            "[nltk_data]    | Downloading package dependency_treebank to\n",
            "[nltk_data]    |     /root/nltk_data...\n",
            "[nltk_data]    |   Unzipping corpora/dependency_treebank.zip.\n",
            "[nltk_data]    | Downloading package dolch to /root/nltk_data...\n",
            "[nltk_data]    |   Unzipping corpora/dolch.zip.\n",
            "[nltk_data]    | Downloading package europarl_raw to\n",
            "[nltk_data]    |     /root/nltk_data...\n",
            "[nltk_data]    |   Unzipping corpora/europarl_raw.zip.\n",
            "[nltk_data]    | Downloading package extended_omw to\n",
            "[nltk_data]    |     /root/nltk_data...\n",
            "[nltk_data]    | Downloading package floresta to /root/nltk_data...\n",
            "[nltk_data]    |   Unzipping corpora/floresta.zip.\n",
            "[nltk_data]    | Downloading package framenet_v15 to\n",
            "[nltk_data]    |     /root/nltk_data...\n",
            "[nltk_data]    |   Unzipping corpora/framenet_v15.zip.\n",
            "[nltk_data]    | Downloading package framenet_v17 to\n",
            "[nltk_data]    |     /root/nltk_data...\n",
            "[nltk_data]    |   Unzipping corpora/framenet_v17.zip.\n",
            "[nltk_data]    | Downloading package gazetteers to /root/nltk_data...\n",
            "[nltk_data]    |   Unzipping corpora/gazetteers.zip.\n",
            "[nltk_data]    | Downloading package genesis to /root/nltk_data...\n",
            "[nltk_data]    |   Unzipping corpora/genesis.zip.\n",
            "[nltk_data]    | Downloading package gutenberg to /root/nltk_data...\n",
            "[nltk_data]    |   Unzipping corpora/gutenberg.zip.\n",
            "[nltk_data]    | Downloading package ieer to /root/nltk_data...\n",
            "[nltk_data]    |   Unzipping corpora/ieer.zip.\n",
            "[nltk_data]    | Downloading package inaugural to /root/nltk_data...\n",
            "[nltk_data]    |   Unzipping corpora/inaugural.zip.\n",
            "[nltk_data]    | Downloading package indian to /root/nltk_data...\n",
            "[nltk_data]    |   Unzipping corpora/indian.zip.\n",
            "[nltk_data]    | Downloading package jeita to /root/nltk_data...\n",
            "[nltk_data]    | Downloading package kimmo to /root/nltk_data...\n",
            "[nltk_data]    |   Unzipping corpora/kimmo.zip.\n",
            "[nltk_data]    | Downloading package knbc to /root/nltk_data...\n",
            "[nltk_data]    | Downloading package large_grammars to\n",
            "[nltk_data]    |     /root/nltk_data...\n",
            "[nltk_data]    |   Unzipping grammars/large_grammars.zip.\n",
            "[nltk_data]    | Downloading package lin_thesaurus to\n",
            "[nltk_data]    |     /root/nltk_data...\n",
            "[nltk_data]    |   Unzipping corpora/lin_thesaurus.zip.\n",
            "[nltk_data]    | Downloading package mac_morpho to /root/nltk_data...\n",
            "[nltk_data]    |   Unzipping corpora/mac_morpho.zip.\n",
            "[nltk_data]    | Downloading package machado to /root/nltk_data...\n",
            "[nltk_data]    | Downloading package masc_tagged to /root/nltk_data...\n",
            "[nltk_data]    | Downloading package maxent_ne_chunker to\n",
            "[nltk_data]    |     /root/nltk_data...\n",
            "[nltk_data]    |   Unzipping chunkers/maxent_ne_chunker.zip.\n",
            "[nltk_data]    | Downloading package maxent_treebank_pos_tagger to\n",
            "[nltk_data]    |     /root/nltk_data...\n",
            "[nltk_data]    |   Unzipping taggers/maxent_treebank_pos_tagger.zip.\n",
            "[nltk_data]    | Downloading package moses_sample to\n",
            "[nltk_data]    |     /root/nltk_data...\n",
            "[nltk_data]    |   Unzipping models/moses_sample.zip.\n",
            "[nltk_data]    | Downloading package movie_reviews to\n",
            "[nltk_data]    |     /root/nltk_data...\n",
            "[nltk_data]    |   Unzipping corpora/movie_reviews.zip.\n",
            "[nltk_data]    | Downloading package mte_teip5 to /root/nltk_data...\n",
            "[nltk_data]    |   Unzipping corpora/mte_teip5.zip.\n",
            "[nltk_data]    | Downloading package mwa_ppdb to /root/nltk_data...\n",
            "[nltk_data]    |   Unzipping misc/mwa_ppdb.zip.\n",
            "[nltk_data]    | Downloading package names to /root/nltk_data...\n",
            "[nltk_data]    |   Unzipping corpora/names.zip.\n",
            "[nltk_data]    | Downloading package nombank.1.0 to /root/nltk_data...\n",
            "[nltk_data]    | Downloading package nonbreaking_prefixes to\n",
            "[nltk_data]    |     /root/nltk_data...\n",
            "[nltk_data]    |   Unzipping corpora/nonbreaking_prefixes.zip.\n",
            "[nltk_data]    | Downloading package nps_chat to /root/nltk_data...\n",
            "[nltk_data]    |   Unzipping corpora/nps_chat.zip.\n",
            "[nltk_data]    | Downloading package omw to /root/nltk_data...\n",
            "[nltk_data]    | Downloading package omw-1.4 to /root/nltk_data...\n",
            "[nltk_data]    | Downloading package opinion_lexicon to\n",
            "[nltk_data]    |     /root/nltk_data...\n",
            "[nltk_data]    |   Unzipping corpora/opinion_lexicon.zip.\n",
            "[nltk_data]    | Downloading package panlex_swadesh to\n",
            "[nltk_data]    |     /root/nltk_data...\n",
            "[nltk_data]    | Downloading package paradigms to /root/nltk_data...\n",
            "[nltk_data]    |   Unzipping corpora/paradigms.zip.\n",
            "[nltk_data]    | Downloading package pe08 to /root/nltk_data...\n",
            "[nltk_data]    |   Unzipping corpora/pe08.zip.\n",
            "[nltk_data]    | Downloading package perluniprops to\n",
            "[nltk_data]    |     /root/nltk_data...\n",
            "[nltk_data]    |   Unzipping misc/perluniprops.zip.\n",
            "[nltk_data]    | Downloading package pil to /root/nltk_data...\n",
            "[nltk_data]    |   Unzipping corpora/pil.zip.\n",
            "[nltk_data]    | Downloading package pl196x to /root/nltk_data...\n",
            "[nltk_data]    |   Unzipping corpora/pl196x.zip.\n",
            "[nltk_data]    | Downloading package porter_test to /root/nltk_data...\n",
            "[nltk_data]    |   Unzipping stemmers/porter_test.zip.\n",
            "[nltk_data]    | Downloading package ppattach to /root/nltk_data...\n",
            "[nltk_data]    |   Unzipping corpora/ppattach.zip.\n",
            "[nltk_data]    | Downloading package problem_reports to\n",
            "[nltk_data]    |     /root/nltk_data...\n",
            "[nltk_data]    |   Unzipping corpora/problem_reports.zip.\n",
            "[nltk_data]    | Downloading package product_reviews_1 to\n",
            "[nltk_data]    |     /root/nltk_data...\n",
            "[nltk_data]    |   Unzipping corpora/product_reviews_1.zip.\n",
            "[nltk_data]    | Downloading package product_reviews_2 to\n",
            "[nltk_data]    |     /root/nltk_data...\n",
            "[nltk_data]    |   Unzipping corpora/product_reviews_2.zip.\n",
            "[nltk_data]    | Downloading package propbank to /root/nltk_data...\n",
            "[nltk_data]    | Downloading package pros_cons to /root/nltk_data...\n",
            "[nltk_data]    |   Unzipping corpora/pros_cons.zip.\n",
            "[nltk_data]    | Downloading package ptb to /root/nltk_data...\n",
            "[nltk_data]    |   Unzipping corpora/ptb.zip.\n",
            "[nltk_data]    | Downloading package punkt to /root/nltk_data...\n",
            "[nltk_data]    |   Unzipping tokenizers/punkt.zip.\n",
            "[nltk_data]    | Downloading package qc to /root/nltk_data...\n",
            "[nltk_data]    |   Unzipping corpora/qc.zip.\n",
            "[nltk_data]    | Downloading package reuters to /root/nltk_data...\n",
            "[nltk_data]    | Downloading package rslp to /root/nltk_data...\n",
            "[nltk_data]    |   Unzipping stemmers/rslp.zip.\n",
            "[nltk_data]    | Downloading package rte to /root/nltk_data...\n",
            "[nltk_data]    |   Unzipping corpora/rte.zip.\n",
            "[nltk_data]    | Downloading package sample_grammars to\n",
            "[nltk_data]    |     /root/nltk_data...\n",
            "[nltk_data]    |   Unzipping grammars/sample_grammars.zip.\n",
            "[nltk_data]    | Downloading package semcor to /root/nltk_data...\n",
            "[nltk_data]    | Downloading package senseval to /root/nltk_data...\n",
            "[nltk_data]    |   Unzipping corpora/senseval.zip.\n",
            "[nltk_data]    | Downloading package sentence_polarity to\n",
            "[nltk_data]    |     /root/nltk_data...\n",
            "[nltk_data]    |   Unzipping corpora/sentence_polarity.zip.\n",
            "[nltk_data]    | Downloading package sentiwordnet to\n",
            "[nltk_data]    |     /root/nltk_data...\n",
            "[nltk_data]    |   Unzipping corpora/sentiwordnet.zip.\n",
            "[nltk_data]    | Downloading package shakespeare to /root/nltk_data...\n",
            "[nltk_data]    |   Unzipping corpora/shakespeare.zip.\n",
            "[nltk_data]    | Downloading package sinica_treebank to\n",
            "[nltk_data]    |     /root/nltk_data...\n",
            "[nltk_data]    |   Unzipping corpora/sinica_treebank.zip.\n",
            "[nltk_data]    | Downloading package smultron to /root/nltk_data...\n",
            "[nltk_data]    |   Unzipping corpora/smultron.zip.\n",
            "[nltk_data]    | Downloading package snowball_data to\n",
            "[nltk_data]    |     /root/nltk_data...\n",
            "[nltk_data]    | Downloading package spanish_grammars to\n",
            "[nltk_data]    |     /root/nltk_data...\n",
            "[nltk_data]    |   Unzipping grammars/spanish_grammars.zip.\n",
            "[nltk_data]    | Downloading package state_union to /root/nltk_data...\n",
            "[nltk_data]    |   Unzipping corpora/state_union.zip.\n",
            "[nltk_data]    | Downloading package stopwords to /root/nltk_data...\n",
            "[nltk_data]    |   Unzipping corpora/stopwords.zip.\n",
            "[nltk_data]    | Downloading package subjectivity to\n",
            "[nltk_data]    |     /root/nltk_data...\n",
            "[nltk_data]    |   Unzipping corpora/subjectivity.zip.\n",
            "[nltk_data]    | Downloading package swadesh to /root/nltk_data...\n",
            "[nltk_data]    |   Unzipping corpora/swadesh.zip.\n",
            "[nltk_data]    | Downloading package switchboard to /root/nltk_data...\n",
            "[nltk_data]    |   Unzipping corpora/switchboard.zip.\n",
            "[nltk_data]    | Downloading package tagsets to /root/nltk_data...\n",
            "[nltk_data]    |   Unzipping help/tagsets.zip.\n",
            "[nltk_data]    | Downloading package timit to /root/nltk_data...\n",
            "[nltk_data]    |   Unzipping corpora/timit.zip.\n",
            "[nltk_data]    | Downloading package toolbox to /root/nltk_data...\n",
            "[nltk_data]    |   Unzipping corpora/toolbox.zip.\n",
            "[nltk_data]    | Downloading package treebank to /root/nltk_data...\n",
            "[nltk_data]    |   Unzipping corpora/treebank.zip.\n",
            "[nltk_data]    | Downloading package twitter_samples to\n",
            "[nltk_data]    |     /root/nltk_data...\n",
            "[nltk_data]    |   Unzipping corpora/twitter_samples.zip.\n",
            "[nltk_data]    | Downloading package udhr to /root/nltk_data...\n",
            "[nltk_data]    |   Unzipping corpora/udhr.zip.\n",
            "[nltk_data]    | Downloading package udhr2 to /root/nltk_data...\n",
            "[nltk_data]    |   Unzipping corpora/udhr2.zip.\n",
            "[nltk_data]    | Downloading package unicode_samples to\n",
            "[nltk_data]    |     /root/nltk_data...\n",
            "[nltk_data]    |   Unzipping corpora/unicode_samples.zip.\n",
            "[nltk_data]    | Downloading package universal_tagset to\n",
            "[nltk_data]    |     /root/nltk_data...\n",
            "[nltk_data]    |   Unzipping taggers/universal_tagset.zip.\n",
            "[nltk_data]    | Downloading package universal_treebanks_v20 to\n",
            "[nltk_data]    |     /root/nltk_data...\n",
            "[nltk_data]    | Downloading package vader_lexicon to\n",
            "[nltk_data]    |     /root/nltk_data...\n",
            "[nltk_data]    | Downloading package verbnet to /root/nltk_data...\n",
            "[nltk_data]    |   Unzipping corpora/verbnet.zip.\n",
            "[nltk_data]    | Downloading package verbnet3 to /root/nltk_data...\n",
            "[nltk_data]    |   Unzipping corpora/verbnet3.zip.\n",
            "[nltk_data]    | Downloading package webtext to /root/nltk_data...\n",
            "[nltk_data]    |   Unzipping corpora/webtext.zip.\n",
            "[nltk_data]    | Downloading package wmt15_eval to /root/nltk_data...\n",
            "[nltk_data]    |   Unzipping models/wmt15_eval.zip.\n",
            "[nltk_data]    | Downloading package word2vec_sample to\n",
            "[nltk_data]    |     /root/nltk_data...\n",
            "[nltk_data]    |   Unzipping models/word2vec_sample.zip.\n",
            "[nltk_data]    | Downloading package wordnet to /root/nltk_data...\n",
            "[nltk_data]    | Downloading package wordnet2021 to /root/nltk_data...\n",
            "[nltk_data]    | Downloading package wordnet2022 to /root/nltk_data...\n",
            "[nltk_data]    |   Unzipping corpora/wordnet2022.zip.\n",
            "[nltk_data]    | Downloading package wordnet31 to /root/nltk_data...\n",
            "[nltk_data]    | Downloading package wordnet_ic to /root/nltk_data...\n",
            "[nltk_data]    |   Unzipping corpora/wordnet_ic.zip.\n",
            "[nltk_data]    | Downloading package words to /root/nltk_data...\n",
            "[nltk_data]    |   Unzipping corpora/words.zip.\n",
            "[nltk_data]    | Downloading package ycoe to /root/nltk_data...\n",
            "[nltk_data]    |   Unzipping corpora/ycoe.zip.\n",
            "[nltk_data]    | \n",
            "[nltk_data]  Done downloading collection all\n"
          ]
        },
        {
          "output_type": "execute_result",
          "data": {
            "text/plain": [
              "True"
            ]
          },
          "metadata": {},
          "execution_count": 2
        }
      ]
    },
    {
      "cell_type": "code",
      "source": [
        "#important\n",
        "import numpy as np\n",
        "import pandas as pd\n",
        "import matplotlib.pyplot as plt\n",
        "import matplotlib.cm as cm\n",
        "from matplotlib import rcParams\n",
        "from collections import Counter\n",
        "np.set_printoptions(threshold=np.inf)\n",
        "\n",
        "%matplotlib inline\n",
        "import seaborn as sns\n",
        "import string\n",
        "from sklearn.metrics import f1_score, roc_auc_score, accuracy_score,roc_curve, auc, classification_report, confusion_matrix\n",
        "from sklearn.model_selection import train_test_split\n",
        "from sklearn.feature_extraction.text import CountVectorizer\n",
        "import multiprocessing\n",
        "from sklearn.preprocessing import LabelEncoder\n",
        "from mlxtend.plotting import plot_confusion_matrix\n",
        "\n",
        "import warnings\n",
        "warnings.filterwarnings(\"ignore\")\n",
        "\n",
        "#tensorflow y keras\n",
        "import tensorflow as tf\n",
        "from tensorflow.keras import models,layers,optimizers\n",
        "import tensorflow\n",
        "from tensorflow.keras.preprocessing.text import Tokenizer, text_to_word_sequence\n",
        "from tensorflow.keras.preprocessing.sequence import pad_sequences\n",
        "\n",
        "from tensorflow.keras.layers import LSTM, Activation, Dense, Dropout, Input, Embedding\n",
        "from tensorflow.keras.models import Model\n",
        "from tensorflow.keras.optimizers import RMSprop\n",
        "from tensorflow.keras.preprocessing.text import Tokenizer\n",
        "from tensorflow.keras.preprocessing import sequence\n",
        "\n",
        "from keras import layers\n",
        "from keras.callbacks import ReduceLROnPlateau,EarlyStopping,ModelCheckpoint\n",
        "from keras.models import Model,Sequential\n",
        "from keras.layers import Input,  Embedding, Bidirectional, LSTM, Dense, Dropout, Concatenate, Multiply, Activation, Lambda,SpatialDropout1D\n",
        "tf.config.experimental.list_physical_devices()\n",
        "tf.test.is_built_with_cuda()\n",
        "\n",
        "#nlp\n",
        "import nltk\n",
        "from nltk import tokenize\n",
        "from nltk.corpus import stopwords\n",
        "from nltk.stem import WordNetLemmatizer, SnowballStemmer, PorterStemmer\n",
        "from nltk.probability import FreqDist\n",
        "from nltk.tokenize import RegexpTokenizer\n",
        "nltk.download('stopwords')\n",
        "nltk.download('punkt')\n",
        "from nltk.tokenize import word_tokenize\n",
        "\n",
        "#idk\n",
        "from collections import Counter\n",
        "from tqdm import trange\n",
        "from concurrent.futures import ProcessPoolExecutor\n",
        "import bz2\n",
        "import re\n",
        "import os\n",
        "\n",
        "#drive\n",
        "\n",
        "from google.colab import drive\n",
        "drive.mount('/content/drive')"
      ],
      "metadata": {
        "colab": {
          "base_uri": "https://localhost:8080/"
        },
        "id": "DiM34-3xMM8A",
        "outputId": "76d147c2-38a7-4330-b89e-e9246412d0a9"
      },
      "execution_count": 3,
      "outputs": [
        {
          "output_type": "stream",
          "name": "stderr",
          "text": [
            "[nltk_data] Downloading package stopwords to /root/nltk_data...\n",
            "[nltk_data]   Package stopwords is already up-to-date!\n",
            "[nltk_data] Downloading package punkt to /root/nltk_data...\n",
            "[nltk_data]   Package punkt is already up-to-date!\n"
          ]
        },
        {
          "output_type": "stream",
          "name": "stdout",
          "text": [
            "Mounted at /content/drive\n"
          ]
        }
      ]
    },
    {
      "cell_type": "markdown",
      "source": [
        "## Data reading"
      ],
      "metadata": {
        "id": "zrTnY1CesyN9"
      }
    },
    {
      "cell_type": "code",
      "source": [
        "path_root = \"/content/drive/MyDrive/procesamiento_clasificacion_datos/\""
      ],
      "metadata": {
        "id": "feBQqQ_7L8_F"
      },
      "execution_count": 4,
      "outputs": []
    },
    {
      "cell_type": "code",
      "execution_count": 5,
      "metadata": {
        "id": "RnZF6kwW9bUs"
      },
      "outputs": [],
      "source": [
        "data = pd.read_csv(path_root + \"data_con_stopwords_20231005.csv\")\n",
        "data_prep = pd.read_csv(path_root + 'resultados_20231014.csv')"
      ]
    },
    {
      "cell_type": "code",
      "source": [
        "dict(zip(['x',  'text_12', 'text_stemmed', 'text_lemm'],['str']*4))"
      ],
      "metadata": {
        "colab": {
          "base_uri": "https://localhost:8080/"
        },
        "id": "c2TM0arAtXEK",
        "outputId": "cc9de72a-88f4-436f-cb6a-11ca9a14dffd"
      },
      "execution_count": 6,
      "outputs": [
        {
          "output_type": "execute_result",
          "data": {
            "text/plain": [
              "{'x': 'str', 'text_12': 'str', 'text_stemmed': 'str', 'text_lemm': 'str'}"
            ]
          },
          "metadata": {},
          "execution_count": 6
        }
      ]
    },
    {
      "cell_type": "code",
      "source": [
        "len_sample = int(1e5)\n",
        "df = pd.concat([data, data_prep] , axis =1 )\n",
        "df = df.loc[:len_sample, ['x','y', 'text_12', 'text_stemmed', 'text_lemm']]\n",
        "df['x'] = df['x'].astype('str')\n",
        "df['text_12'] = df['text_12'].astype('str')\n",
        "df['text_stemmed'] = df['text_stemmed'].astype('str')\n",
        "df['text_lemm'] = df['text_lemm'].astype('str')\n",
        "df.info()"
      ],
      "metadata": {
        "colab": {
          "base_uri": "https://localhost:8080/"
        },
        "id": "99y4ELgXMput",
        "outputId": "9dc6981e-25ab-44a4-9612-3368f66da22f"
      },
      "execution_count": 7,
      "outputs": [
        {
          "output_type": "stream",
          "name": "stdout",
          "text": [
            "<class 'pandas.core.frame.DataFrame'>\n",
            "RangeIndex: 100001 entries, 0 to 100000\n",
            "Data columns (total 5 columns):\n",
            " #   Column        Non-Null Count   Dtype \n",
            "---  ------        --------------   ----- \n",
            " 0   x             100001 non-null  object\n",
            " 1   y             100001 non-null  int64 \n",
            " 2   text_12       100001 non-null  object\n",
            " 3   text_stemmed  100001 non-null  object\n",
            " 4   text_lemm     100001 non-null  object\n",
            "dtypes: int64(1), object(4)\n",
            "memory usage: 3.8+ MB\n"
          ]
        }
      ]
    },
    {
      "cell_type": "markdown",
      "source": [
        "## vars"
      ],
      "metadata": {
        "id": "FswpPoYuszsG"
      }
    },
    {
      "cell_type": "code",
      "source": [
        "X=df.text_lemm.str.lower() # df.text_stemmed.astype('str').str.lower()\n",
        "y=df.y"
      ],
      "metadata": {
        "id": "oxzx1XIFi2Ps"
      },
      "execution_count": 8,
      "outputs": []
    },
    {
      "cell_type": "code",
      "source": [
        "len(X)"
      ],
      "metadata": {
        "colab": {
          "base_uri": "https://localhost:8080/"
        },
        "id": "BDcPebb9nQ6I",
        "outputId": "977f2b8c-85e9-45a3-c540-e30e609a90f5"
      },
      "execution_count": 9,
      "outputs": [
        {
          "output_type": "execute_result",
          "data": {
            "text/plain": [
              "100001"
            ]
          },
          "metadata": {},
          "execution_count": 9
        }
      ]
    },
    {
      "cell_type": "markdown",
      "source": [
        "## preprocesamiento"
      ],
      "metadata": {
        "id": "XhBgXBYUs1Go"
      }
    },
    {
      "cell_type": "code",
      "source": [
        "max_len = 10\n",
        "tokenizer = Tokenizer(num_words=50)\n",
        "tokenizer.fit_on_texts(X)\n",
        "sequences = tokenizer.texts_to_sequences(X)\n",
        "sequences_matrix = sequence.pad_sequences(sequences,maxlen=max_len)\n",
        "print(sequences_matrix.shape)"
      ],
      "metadata": {
        "colab": {
          "base_uri": "https://localhost:8080/"
        },
        "id": "3JX5LHD5jBhW",
        "outputId": "76f933d5-b78f-4922-aa2b-0781a742cd1d"
      },
      "execution_count": 10,
      "outputs": [
        {
          "output_type": "stream",
          "name": "stdout",
          "text": [
            "(100001, 10)\n"
          ]
        }
      ]
    },
    {
      "cell_type": "markdown",
      "source": [
        "## split train test"
      ],
      "metadata": {
        "id": "dAlMUCths3gq"
      }
    },
    {
      "cell_type": "code",
      "source": [
        "X_train, X_test, Y_train, Y_test = train_test_split(sequences_matrix, y, test_size=0.2, random_state=2)\n",
        "print(X_train.shape, X_test.shape, Y_test.shape, Y_train.shape)"
      ],
      "metadata": {
        "id": "5F92iz8pjEld",
        "colab": {
          "base_uri": "https://localhost:8080/"
        },
        "outputId": "96054d3f-c959-48c3-a18c-4f08b5ec02f5"
      },
      "execution_count": 11,
      "outputs": [
        {
          "output_type": "stream",
          "name": "stdout",
          "text": [
            "(80000, 10) (20001, 10) (20001,) (80000,)\n"
          ]
        }
      ]
    },
    {
      "cell_type": "markdown",
      "source": [
        "## model"
      ],
      "metadata": {
        "id": "aIouKjres5k3"
      }
    },
    {
      "cell_type": "code",
      "source": [
        "vocab_size=len(tokenizer.word_index)+1\n",
        "vocab_size"
      ],
      "metadata": {
        "colab": {
          "base_uri": "https://localhost:8080/"
        },
        "id": "32EMOC-VjF5r",
        "outputId": "ae8f110a-fa2a-4025-85e8-74e79fdd1ce0"
      },
      "execution_count": 12,
      "outputs": [
        {
          "output_type": "execute_result",
          "data": {
            "text/plain": [
              "171477"
            ]
          },
          "metadata": {},
          "execution_count": 12
        }
      ]
    },
    {
      "cell_type": "code",
      "source": [],
      "metadata": {
        "id": "oxmQBqZA9J1T"
      },
      "execution_count": 12,
      "outputs": []
    },
    {
      "cell_type": "code",
      "source": [
        "embedding_dim=50\n",
        "model=Sequential()\n",
        "model.add(layers.Embedding(input_dim=vocab_size,\n",
        "      output_dim=embedding_dim,\n",
        "      input_length=max_len))\n",
        "model.add(layers.LSTM(units=50,return_sequences=True))\n",
        "model.add(layers.LSTM(units=10))\n",
        "model.add(layers.Dropout(0.5))\n",
        "model.add(layers.Dense(8))\n",
        "model.add(layers.Dense(1, activation=\"sigmoid\"))\n",
        "model.compile(optimizer=\"adam\", loss=\"binary_crossentropy\",\n",
        "     metrics=['accuracy'])\n",
        "model.summary()"
      ],
      "metadata": {
        "colab": {
          "base_uri": "https://localhost:8080/"
        },
        "id": "ZAcoG_3ZjH13",
        "outputId": "fbada4c4-e1a3-4389-9647-e901c8d33090"
      },
      "execution_count": 13,
      "outputs": [
        {
          "output_type": "stream",
          "name": "stdout",
          "text": [
            "Model: \"sequential\"\n",
            "_________________________________________________________________\n",
            " Layer (type)                Output Shape              Param #   \n",
            "=================================================================\n",
            " embedding (Embedding)       (None, 10, 50)            8573850   \n",
            "                                                                 \n",
            " lstm (LSTM)                 (None, 10, 50)            20200     \n",
            "                                                                 \n",
            " lstm_1 (LSTM)               (None, 10)                2440      \n",
            "                                                                 \n",
            " dropout (Dropout)           (None, 10)                0         \n",
            "                                                                 \n",
            " dense (Dense)               (None, 8)                 88        \n",
            "                                                                 \n",
            " dense_1 (Dense)             (None, 1)                 9         \n",
            "                                                                 \n",
            "=================================================================\n",
            "Total params: 8596587 (32.79 MB)\n",
            "Trainable params: 8596587 (32.79 MB)\n",
            "Non-trainable params: 0 (0.00 Byte)\n",
            "_________________________________________________________________\n"
          ]
        }
      ]
    },
    {
      "cell_type": "code",
      "source": [
        "X_test.shape, X_train.shape"
      ],
      "metadata": {
        "colab": {
          "base_uri": "https://localhost:8080/"
        },
        "id": "VnOH-arkr79d",
        "outputId": "c3a1aa6a-21c8-4a2d-ee8c-05b539c68995"
      },
      "execution_count": 14,
      "outputs": [
        {
          "output_type": "execute_result",
          "data": {
            "text/plain": [
              "((20001, 10), (80000, 10))"
            ]
          },
          "metadata": {},
          "execution_count": 14
        }
      ]
    },
    {
      "cell_type": "code",
      "source": [
        "\n",
        "lr_reduce = ReduceLROnPlateau(monitor='val_loss',factor=0.5, patience=3, verbose=0, mode='auto',min_lr=0.0001)\n",
        "\n",
        "history2 = model.fit(X_train,Y_train, epochs=30, batch_size=32, verbose=True,\n",
        "\n",
        "                     validation_data=(X_test, Y_test),\n",
        "                     callbacks=[lr_reduce])"
      ],
      "metadata": {
        "colab": {
          "base_uri": "https://localhost:8080/"
        },
        "id": "4sCt4Jedr_j2",
        "outputId": "53fd2e7a-d822-4748-a49e-a8a4dad2e77d"
      },
      "execution_count": 15,
      "outputs": [
        {
          "output_type": "stream",
          "name": "stdout",
          "text": [
            "Epoch 1/30\n",
            "2500/2500 [==============================] - 38s 11ms/step - loss: 0.6046 - accuracy: 0.6709 - val_loss: 0.5893 - val_accuracy: 0.6806 - lr: 0.0010\n",
            "Epoch 2/30\n",
            "2500/2500 [==============================] - 23s 9ms/step - loss: 0.5943 - accuracy: 0.6802 - val_loss: 0.5850 - val_accuracy: 0.6867 - lr: 0.0010\n",
            "Epoch 3/30\n",
            "2500/2500 [==============================] - 23s 9ms/step - loss: 0.5918 - accuracy: 0.6819 - val_loss: 0.5825 - val_accuracy: 0.6885 - lr: 0.0010\n",
            "Epoch 4/30\n",
            "2500/2500 [==============================] - 25s 10ms/step - loss: 0.5895 - accuracy: 0.6854 - val_loss: 0.5801 - val_accuracy: 0.6884 - lr: 0.0010\n",
            "Epoch 5/30\n",
            "2500/2500 [==============================] - 24s 9ms/step - loss: 0.5877 - accuracy: 0.6859 - val_loss: 0.5785 - val_accuracy: 0.6913 - lr: 0.0010\n",
            "Epoch 6/30\n",
            "2500/2500 [==============================] - 23s 9ms/step - loss: 0.5850 - accuracy: 0.6866 - val_loss: 0.5778 - val_accuracy: 0.6920 - lr: 0.0010\n",
            "Epoch 7/30\n",
            "2500/2500 [==============================] - 24s 10ms/step - loss: 0.5825 - accuracy: 0.6890 - val_loss: 0.5773 - val_accuracy: 0.6932 - lr: 0.0010\n",
            "Epoch 8/30\n",
            "2500/2500 [==============================] - 24s 9ms/step - loss: 0.5817 - accuracy: 0.6899 - val_loss: 0.5785 - val_accuracy: 0.6923 - lr: 0.0010\n",
            "Epoch 9/30\n",
            "2500/2500 [==============================] - 23s 9ms/step - loss: 0.5789 - accuracy: 0.6931 - val_loss: 0.5769 - val_accuracy: 0.6925 - lr: 0.0010\n",
            "Epoch 10/30\n",
            "2500/2500 [==============================] - 24s 10ms/step - loss: 0.5775 - accuracy: 0.6945 - val_loss: 0.5755 - val_accuracy: 0.6943 - lr: 0.0010\n",
            "Epoch 11/30\n",
            "2500/2500 [==============================] - 23s 9ms/step - loss: 0.5743 - accuracy: 0.6963 - val_loss: 0.5762 - val_accuracy: 0.6917 - lr: 0.0010\n",
            "Epoch 12/30\n",
            "2500/2500 [==============================] - 23s 9ms/step - loss: 0.5708 - accuracy: 0.6984 - val_loss: 0.5754 - val_accuracy: 0.6920 - lr: 0.0010\n",
            "Epoch 13/30\n",
            "2500/2500 [==============================] - 23s 9ms/step - loss: 0.5672 - accuracy: 0.7000 - val_loss: 0.5775 - val_accuracy: 0.6913 - lr: 0.0010\n",
            "Epoch 14/30\n",
            "2500/2500 [==============================] - 24s 10ms/step - loss: 0.5653 - accuracy: 0.7036 - val_loss: 0.5766 - val_accuracy: 0.6913 - lr: 0.0010\n",
            "Epoch 15/30\n",
            "2500/2500 [==============================] - 24s 9ms/step - loss: 0.5615 - accuracy: 0.7042 - val_loss: 0.5799 - val_accuracy: 0.6908 - lr: 0.0010\n",
            "Epoch 16/30\n",
            "2500/2500 [==============================] - 23s 9ms/step - loss: 0.5530 - accuracy: 0.7104 - val_loss: 0.5806 - val_accuracy: 0.6887 - lr: 5.0000e-04\n",
            "Epoch 17/30\n",
            "2500/2500 [==============================] - 23s 9ms/step - loss: 0.5503 - accuracy: 0.7122 - val_loss: 0.5851 - val_accuracy: 0.6890 - lr: 5.0000e-04\n",
            "Epoch 18/30\n",
            "2500/2500 [==============================] - 25s 10ms/step - loss: 0.5476 - accuracy: 0.7142 - val_loss: 0.5862 - val_accuracy: 0.6879 - lr: 5.0000e-04\n",
            "Epoch 19/30\n",
            "2500/2500 [==============================] - 23s 9ms/step - loss: 0.5420 - accuracy: 0.7180 - val_loss: 0.5881 - val_accuracy: 0.6874 - lr: 2.5000e-04\n",
            "Epoch 20/30\n",
            "2500/2500 [==============================] - 23s 9ms/step - loss: 0.5393 - accuracy: 0.7179 - val_loss: 0.5929 - val_accuracy: 0.6885 - lr: 2.5000e-04\n",
            "Epoch 21/30\n",
            "2500/2500 [==============================] - 23s 9ms/step - loss: 0.5378 - accuracy: 0.7192 - val_loss: 0.5950 - val_accuracy: 0.6861 - lr: 2.5000e-04\n",
            "Epoch 22/30\n",
            "2500/2500 [==============================] - 23s 9ms/step - loss: 0.5336 - accuracy: 0.7209 - val_loss: 0.5969 - val_accuracy: 0.6872 - lr: 1.2500e-04\n",
            "Epoch 23/30\n",
            "2500/2500 [==============================] - 23s 9ms/step - loss: 0.5332 - accuracy: 0.7216 - val_loss: 0.5967 - val_accuracy: 0.6877 - lr: 1.2500e-04\n",
            "Epoch 24/30\n",
            "2500/2500 [==============================] - 23s 9ms/step - loss: 0.5319 - accuracy: 0.7218 - val_loss: 0.5967 - val_accuracy: 0.6856 - lr: 1.2500e-04\n",
            "Epoch 25/30\n",
            "2500/2500 [==============================] - 23s 9ms/step - loss: 0.5303 - accuracy: 0.7232 - val_loss: 0.5991 - val_accuracy: 0.6866 - lr: 1.0000e-04\n",
            "Epoch 26/30\n",
            "2500/2500 [==============================] - 24s 10ms/step - loss: 0.5298 - accuracy: 0.7241 - val_loss: 0.6005 - val_accuracy: 0.6853 - lr: 1.0000e-04\n",
            "Epoch 27/30\n",
            "2500/2500 [==============================] - 23s 9ms/step - loss: 0.5291 - accuracy: 0.7242 - val_loss: 0.6019 - val_accuracy: 0.6847 - lr: 1.0000e-04\n",
            "Epoch 28/30\n",
            "2500/2500 [==============================] - 23s 9ms/step - loss: 0.5287 - accuracy: 0.7243 - val_loss: 0.6021 - val_accuracy: 0.6853 - lr: 1.0000e-04\n",
            "Epoch 29/30\n",
            "2500/2500 [==============================] - 23s 9ms/step - loss: 0.5272 - accuracy: 0.7250 - val_loss: 0.6026 - val_accuracy: 0.6839 - lr: 1.0000e-04\n",
            "Epoch 30/30\n",
            "2500/2500 [==============================] - 24s 10ms/step - loss: 0.5264 - accuracy: 0.7255 - val_loss: 0.6041 - val_accuracy: 0.6851 - lr: 1.0000e-04\n"
          ]
        }
      ]
    },
    {
      "cell_type": "markdown",
      "source": [
        "## evaluation"
      ],
      "metadata": {
        "id": "n7FauQOUs72t"
      }
    },
    {
      "cell_type": "code",
      "source": [
        "historia = history2\n",
        "plt.plot(historia.history['accuracy'])\n",
        "plt.plot(historia.history['val_accuracy'])\n",
        "plt.title('model accuracy')\n",
        "plt.ylabel('accuracy')\n",
        "plt.xlabel('epoch')\n",
        "plt.legend(['train', 'val'], loc='upper left')\n",
        "plt.show()\n",
        "plt.plot(historia.history['loss'])\n",
        "plt.plot(historia.history['val_loss'])\n",
        "plt.title('model loss')\n",
        "plt.ylabel('loss')\n",
        "plt.xlabel('epoch')\n",
        "plt.legend(['train', 'val'], loc='upper left')\n",
        "plt.show()"
      ],
      "metadata": {
        "id": "Zjo5nf7BsBPg",
        "colab": {
          "base_uri": "https://localhost:8080/",
          "height": 927
        },
        "outputId": "f27f9d31-5172-4f12-f2ac-d2e5ddd99065"
      },
      "execution_count": 16,
      "outputs": [
        {
          "output_type": "display_data",
          "data": {
            "text/plain": [
              "<Figure size 640x480 with 1 Axes>"
            ],
            "image/png": "[encoded data removed]"
          },
          "metadata": {}
        },
        {
          "output_type": "display_data",
          "data": {
            "text/plain": [
              "<Figure size 640x480 with 1 Axes>"
            ],
            "image/png": "[encoded data removed]"
          },
          "metadata": {}
        }
      ]
    },
    {
      "cell_type": "code",
      "source": [
        "y_pred = model.predict(X_test)"
      ],
      "metadata": {
        "id": "rF0VotugsPqm",
        "colab": {
          "base_uri": "https://localhost:8080/"
        },
        "outputId": "5e57aa2a-68cb-463b-801d-b3946b70e715"
      },
      "execution_count": 17,
      "outputs": [
        {
          "output_type": "stream",
          "name": "stdout",
          "text": [
            "626/626 [==============================] - 2s 3ms/step\n"
          ]
        }
      ]
    },
    {
      "cell_type": "code",
      "source": [
        "accr1 = model.evaluate(X_test,Y_test)#loss y accuracy\n",
        "auc_score=roc_auc_score(Y_test,y_pred)\n",
        "fpr , tpr , thresholds = roc_curve ( Y_test , y_pred)\n",
        "print(f'auc_score: {auc_score}, accr1: {accr1}')"
      ],
      "metadata": {
        "id": "xCsH6vchsLUV",
        "colab": {
          "base_uri": "https://localhost:8080/"
        },
        "outputId": "fc74f34d-99cf-4120-f14d-ddd21beeeff0"
      },
      "execution_count": 18,
      "outputs": [
        {
          "output_type": "stream",
          "name": "stdout",
          "text": [
            "626/626 [==============================] - 2s 4ms/step - loss: 0.6041 - accuracy: 0.6851\n",
            "auc_score: 0.7521806214763205, accr1: [0.6041212677955627, 0.6851157546043396]\n"
          ]
        }
      ]
    },
    {
      "cell_type": "code",
      "source": [
        "plot_roc_curve (fpr,tpr)"
      ],
      "metadata": {
        "id": "3PAdPV8ysT6o",
        "colab": {
          "base_uri": "https://localhost:8080/",
          "height": 455
        },
        "outputId": "29b18a28-731f-4af7-966e-c9a1ee58f91c"
      },
      "execution_count": 19,
      "outputs": [
        {
          "output_type": "display_data",
          "data": {
            "text/plain": [
              "<Figure size 640x480 with 1 Axes>"
            ],
            "image/png": "[encoded data removed]"
          },
          "metadata": {}
        }
      ]
    },
    {
      "cell_type": "code",
      "source": [],
      "metadata": {
        "id": "I7lHQ0ALsVkt"
      },
      "execution_count": 19,
      "outputs": []
    }
  ]
}